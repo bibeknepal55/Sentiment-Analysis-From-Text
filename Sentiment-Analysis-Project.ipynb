{
 "cells": [
  {
   "attachments": {},
   "cell_type": "markdown",
   "id": "012305ed",
   "metadata": {},
   "source": [
    "### Sentiment Analysis:\n",
    "**Build a model that can analyze and classify sentiment in text data, such as product reviews or social media posts.**"
   ]
  },
  {
   "cell_type": "code",
   "execution_count": 1,
   "id": "10aa7d5d",
   "metadata": {},
   "outputs": [],
   "source": [
    "import pandas as pd\n",
    "import numpy as np\n",
    "\n",
    "import matplotlib.pyplot as plt\n",
    "import seaborn as sns\n",
    "\n",
    "import nltk\n",
    "from nltk.corpus import stopwords\n",
    "from nltk.tokenize import word_tokenize\n",
    "from nltk.sentiment import SentimentIntensityAnalyzer\n",
    "\n",
    "import spacy"
   ]
  },
  {
   "cell_type": "code",
   "execution_count": 2,
   "id": "fd4c7e7a",
   "metadata": {},
   "outputs": [],
   "source": [
    "# Data: Iphone 11 reviews from amazon.com\n",
    "\n",
    "data = pd.read_csv('apple_iphone_11_reviews.csv')"
   ]
  },
  {
   "cell_type": "code",
   "execution_count": 3,
   "id": "510101c6",
   "metadata": {},
   "outputs": [
    {
     "data": {
      "text/html": [
       "<div>\n",
       "<style scoped>\n",
       "    .dataframe tbody tr th:only-of-type {\n",
       "        vertical-align: middle;\n",
       "    }\n",
       "\n",
       "    .dataframe tbody tr th {\n",
       "        vertical-align: top;\n",
       "    }\n",
       "\n",
       "    .dataframe thead th {\n",
       "        text-align: right;\n",
       "    }\n",
       "</style>\n",
       "<table border=\"1\" class=\"dataframe\">\n",
       "  <thead>\n",
       "    <tr style=\"text-align: right;\">\n",
       "      <th></th>\n",
       "      <th>index</th>\n",
       "      <th>product</th>\n",
       "      <th>helpful_count</th>\n",
       "      <th>total_comments</th>\n",
       "      <th>url</th>\n",
       "      <th>review_country</th>\n",
       "      <th>reviewed_at</th>\n",
       "      <th>review_text</th>\n",
       "      <th>review_rating</th>\n",
       "      <th>product_company</th>\n",
       "      <th>profile_name</th>\n",
       "      <th>review_title</th>\n",
       "    </tr>\n",
       "  </thead>\n",
       "  <tbody>\n",
       "    <tr>\n",
       "      <th>0</th>\n",
       "      <td>0</td>\n",
       "      <td>Apple iPhone XR (64GB) - Black</td>\n",
       "      <td>5,087 people found this helpful</td>\n",
       "      <td>24</td>\n",
       "      <td>https://www.amazon.in/Apple-iPhone-XR-64GB-Bla...</td>\n",
       "      <td>India</td>\n",
       "      <td>2018-12-12</td>\n",
       "      <td>NOTE:</td>\n",
       "      <td>3.0 out of 5 stars</td>\n",
       "      <td>Apple</td>\n",
       "      <td>Sameer Patil</td>\n",
       "      <td>Which iPhone you should Purchase ? iPhone 8, X...</td>\n",
       "    </tr>\n",
       "    <tr>\n",
       "      <th>1</th>\n",
       "      <td>1</td>\n",
       "      <td>Apple iPhone XR (64GB) - Black</td>\n",
       "      <td>2,822 people found this helpful</td>\n",
       "      <td>6</td>\n",
       "      <td>https://www.amazon.in/Apple-iPhone-XR-64GB-Bla...</td>\n",
       "      <td>India</td>\n",
       "      <td>2018-11-17</td>\n",
       "      <td>Very bad experience with this iPhone xr phone....</td>\n",
       "      <td>1.0 out of 5 stars</td>\n",
       "      <td>Apple</td>\n",
       "      <td>Amazon Customer</td>\n",
       "      <td>Don't buy iPhone xr from Amazon.</td>\n",
       "    </tr>\n",
       "    <tr>\n",
       "      <th>2</th>\n",
       "      <td>2</td>\n",
       "      <td>Apple iPhone XR (64GB) - Black</td>\n",
       "      <td>1,798 people found this helpful</td>\n",
       "      <td>0</td>\n",
       "      <td>https://www.amazon.in/Apple-iPhone-XR-64GB-Bla...</td>\n",
       "      <td>India</td>\n",
       "      <td>2019-01-27</td>\n",
       "      <td>Amazing phone with amazing camera coming from ...</td>\n",
       "      <td>5.0 out of 5 stars</td>\n",
       "      <td>Apple</td>\n",
       "      <td>A</td>\n",
       "      <td>Happy with the purchase</td>\n",
       "    </tr>\n",
       "    <tr>\n",
       "      <th>3</th>\n",
       "      <td>3</td>\n",
       "      <td>Apple iPhone XR (64GB) - Black</td>\n",
       "      <td>1,366 people found this helpful</td>\n",
       "      <td>14</td>\n",
       "      <td>https://www.amazon.in/Apple-iPhone-XR-64GB-Bla...</td>\n",
       "      <td>India</td>\n",
       "      <td>2019-05-02</td>\n",
       "      <td>So I got the iPhone XR just today. The product...</td>\n",
       "      <td>1.0 out of 5 stars</td>\n",
       "      <td>Apple</td>\n",
       "      <td>Shubham Dutta</td>\n",
       "      <td>Amazon is not an apple authorised reseller. Pl...</td>\n",
       "    </tr>\n",
       "    <tr>\n",
       "      <th>4</th>\n",
       "      <td>4</td>\n",
       "      <td>Apple iPhone XR (64GB) - Black</td>\n",
       "      <td>536 people found this helpful</td>\n",
       "      <td>5</td>\n",
       "      <td>https://www.amazon.in/Apple-iPhone-XR-64GB-Bla...</td>\n",
       "      <td>India</td>\n",
       "      <td>2019-05-24</td>\n",
       "      <td>I've been an android user all my life until I ...</td>\n",
       "      <td>5.0 out of 5 stars</td>\n",
       "      <td>Apple</td>\n",
       "      <td>Nepuni Lokho</td>\n",
       "      <td>Excellent Battery life and buttery smooth UI</td>\n",
       "    </tr>\n",
       "  </tbody>\n",
       "</table>\n",
       "</div>"
      ],
      "text/plain": [
       "   index                         product                    helpful_count  \\\n",
       "0      0  Apple iPhone XR (64GB) - Black  5,087 people found this helpful   \n",
       "1      1  Apple iPhone XR (64GB) - Black  2,822 people found this helpful   \n",
       "2      2  Apple iPhone XR (64GB) - Black  1,798 people found this helpful   \n",
       "3      3  Apple iPhone XR (64GB) - Black  1,366 people found this helpful   \n",
       "4      4  Apple iPhone XR (64GB) - Black    536 people found this helpful   \n",
       "\n",
       "   total_comments                                                url  \\\n",
       "0              24  https://www.amazon.in/Apple-iPhone-XR-64GB-Bla...   \n",
       "1               6  https://www.amazon.in/Apple-iPhone-XR-64GB-Bla...   \n",
       "2               0  https://www.amazon.in/Apple-iPhone-XR-64GB-Bla...   \n",
       "3              14  https://www.amazon.in/Apple-iPhone-XR-64GB-Bla...   \n",
       "4               5  https://www.amazon.in/Apple-iPhone-XR-64GB-Bla...   \n",
       "\n",
       "  review_country reviewed_at  \\\n",
       "0         India   2018-12-12   \n",
       "1         India   2018-11-17   \n",
       "2         India   2019-01-27   \n",
       "3         India   2019-05-02   \n",
       "4         India   2019-05-24   \n",
       "\n",
       "                                         review_text       review_rating  \\\n",
       "0                                              NOTE:  3.0 out of 5 stars   \n",
       "1  Very bad experience with this iPhone xr phone....  1.0 out of 5 stars   \n",
       "2  Amazing phone with amazing camera coming from ...  5.0 out of 5 stars   \n",
       "3  So I got the iPhone XR just today. The product...  1.0 out of 5 stars   \n",
       "4  I've been an android user all my life until I ...  5.0 out of 5 stars   \n",
       "\n",
       "  product_company     profile_name  \\\n",
       "0           Apple     Sameer Patil   \n",
       "1           Apple  Amazon Customer   \n",
       "2           Apple                A   \n",
       "3           Apple    Shubham Dutta   \n",
       "4           Apple     Nepuni Lokho   \n",
       "\n",
       "                                        review_title  \n",
       "0  Which iPhone you should Purchase ? iPhone 8, X...  \n",
       "1                   Don't buy iPhone xr from Amazon.  \n",
       "2                            Happy with the purchase  \n",
       "3  Amazon is not an apple authorised reseller. Pl...  \n",
       "4       Excellent Battery life and buttery smooth UI  "
      ]
     },
     "execution_count": 3,
     "metadata": {},
     "output_type": "execute_result"
    }
   ],
   "source": [
    "data.head()"
   ]
  },
  {
   "cell_type": "code",
   "execution_count": 4,
   "id": "1e7baace",
   "metadata": {},
   "outputs": [
    {
     "data": {
      "text/html": [
       "<div>\n",
       "<style scoped>\n",
       "    .dataframe tbody tr th:only-of-type {\n",
       "        vertical-align: middle;\n",
       "    }\n",
       "\n",
       "    .dataframe tbody tr th {\n",
       "        vertical-align: top;\n",
       "    }\n",
       "\n",
       "    .dataframe thead th {\n",
       "        text-align: right;\n",
       "    }\n",
       "</style>\n",
       "<table border=\"1\" class=\"dataframe\">\n",
       "  <thead>\n",
       "    <tr style=\"text-align: right;\">\n",
       "      <th></th>\n",
       "      <th>index</th>\n",
       "      <th>product</th>\n",
       "      <th>helpful_count</th>\n",
       "      <th>total_comments</th>\n",
       "      <th>url</th>\n",
       "      <th>review_country</th>\n",
       "      <th>reviewed_at</th>\n",
       "      <th>review_text</th>\n",
       "      <th>review_rating</th>\n",
       "      <th>product_company</th>\n",
       "      <th>profile_name</th>\n",
       "      <th>review_title</th>\n",
       "    </tr>\n",
       "  </thead>\n",
       "  <tbody>\n",
       "    <tr>\n",
       "      <th>5005</th>\n",
       "      <td>5005</td>\n",
       "      <td>Apple iPhone XR (64GB) - Black</td>\n",
       "      <td>0</td>\n",
       "      <td>0</td>\n",
       "      <td>https://www.amazon.in/Apple-iPhone-XR-64GB-Bla...</td>\n",
       "      <td>India</td>\n",
       "      <td>2019-11-13</td>\n",
       "      <td>Dhamaka</td>\n",
       "      <td>4.0 out of 5 stars</td>\n",
       "      <td>Apple</td>\n",
       "      <td>Shreya</td>\n",
       "      <td>Dhamaka phone</td>\n",
       "    </tr>\n",
       "    <tr>\n",
       "      <th>5006</th>\n",
       "      <td>5006</td>\n",
       "      <td>Apple iPhone XR (64GB) - Black</td>\n",
       "      <td>0</td>\n",
       "      <td>0</td>\n",
       "      <td>https://www.amazon.in/Apple-iPhone-XR-64GB-Bla...</td>\n",
       "      <td>India</td>\n",
       "      <td>2019-11-15</td>\n",
       "      <td>Goodbye</td>\n",
       "      <td>4.0 out of 5 stars</td>\n",
       "      <td>Apple</td>\n",
       "      <td>murali hv</td>\n",
       "      <td>Good</td>\n",
       "    </tr>\n",
       "    <tr>\n",
       "      <th>5007</th>\n",
       "      <td>5007</td>\n",
       "      <td>Apple iPhone XR (64GB) - Black</td>\n",
       "      <td>0</td>\n",
       "      <td>0</td>\n",
       "      <td>https://www.amazon.in/Apple-iPhone-XR-64GB-Bla...</td>\n",
       "      <td>India</td>\n",
       "      <td>2019-12-29</td>\n",
       "      <td>Nothing</td>\n",
       "      <td>5.0 out of 5 stars</td>\n",
       "      <td>Apple</td>\n",
       "      <td>Manish</td>\n",
       "      <td>Fantabulous phone. Easy to use.</td>\n",
       "    </tr>\n",
       "    <tr>\n",
       "      <th>5008</th>\n",
       "      <td>5008</td>\n",
       "      <td>Apple iPhone XR (64GB) - Black</td>\n",
       "      <td>0</td>\n",
       "      <td>0</td>\n",
       "      <td>https://www.amazon.in/Apple-iPhone-XR-64GB-Bla...</td>\n",
       "      <td>India</td>\n",
       "      <td>2019-11-10</td>\n",
       "      <td>Superbb</td>\n",
       "      <td>5.0 out of 5 stars</td>\n",
       "      <td>Apple</td>\n",
       "      <td>basil john p</td>\n",
       "      <td>Fantastic</td>\n",
       "    </tr>\n",
       "    <tr>\n",
       "      <th>5009</th>\n",
       "      <td>5009</td>\n",
       "      <td>Apple iPhone XR (64GB) - Black</td>\n",
       "      <td>0</td>\n",
       "      <td>0</td>\n",
       "      <td>https://www.amazon.in/Apple-iPhone-XR-64GB-Bla...</td>\n",
       "      <td>India</td>\n",
       "      <td>2019-11-05</td>\n",
       "      <td>Nothing</td>\n",
       "      <td>5.0 out of 5 stars</td>\n",
       "      <td>Apple</td>\n",
       "      <td>Amazon Customer</td>\n",
       "      <td>Best purchase</td>\n",
       "    </tr>\n",
       "  </tbody>\n",
       "</table>\n",
       "</div>"
      ],
      "text/plain": [
       "      index                         product helpful_count  total_comments  \\\n",
       "5005   5005  Apple iPhone XR (64GB) - Black             0               0   \n",
       "5006   5006  Apple iPhone XR (64GB) - Black             0               0   \n",
       "5007   5007  Apple iPhone XR (64GB) - Black             0               0   \n",
       "5008   5008  Apple iPhone XR (64GB) - Black             0               0   \n",
       "5009   5009  Apple iPhone XR (64GB) - Black             0               0   \n",
       "\n",
       "                                                    url review_country  \\\n",
       "5005  https://www.amazon.in/Apple-iPhone-XR-64GB-Bla...         India    \n",
       "5006  https://www.amazon.in/Apple-iPhone-XR-64GB-Bla...         India    \n",
       "5007  https://www.amazon.in/Apple-iPhone-XR-64GB-Bla...         India    \n",
       "5008  https://www.amazon.in/Apple-iPhone-XR-64GB-Bla...         India    \n",
       "5009  https://www.amazon.in/Apple-iPhone-XR-64GB-Bla...         India    \n",
       "\n",
       "     reviewed_at review_text       review_rating product_company  \\\n",
       "5005  2019-11-13     Dhamaka  4.0 out of 5 stars           Apple   \n",
       "5006  2019-11-15     Goodbye  4.0 out of 5 stars           Apple   \n",
       "5007  2019-12-29     Nothing  5.0 out of 5 stars           Apple   \n",
       "5008  2019-11-10     Superbb  5.0 out of 5 stars           Apple   \n",
       "5009  2019-11-05     Nothing  5.0 out of 5 stars           Apple   \n",
       "\n",
       "         profile_name                     review_title  \n",
       "5005           Shreya                    Dhamaka phone  \n",
       "5006        murali hv                             Good  \n",
       "5007           Manish  Fantabulous phone. Easy to use.  \n",
       "5008     basil john p                        Fantastic  \n",
       "5009  Amazon Customer                    Best purchase  "
      ]
     },
     "execution_count": 4,
     "metadata": {},
     "output_type": "execute_result"
    }
   ],
   "source": [
    "data.tail()"
   ]
  },
  {
   "cell_type": "code",
   "execution_count": 5,
   "id": "4a66ddc4",
   "metadata": {},
   "outputs": [
    {
     "data": {
      "text/plain": [
       "(5010, 12)"
      ]
     },
     "execution_count": 5,
     "metadata": {},
     "output_type": "execute_result"
    }
   ],
   "source": [
    "data.shape"
   ]
  },
  {
   "cell_type": "code",
   "execution_count": 6,
   "id": "b09f2a59",
   "metadata": {},
   "outputs": [
    {
     "data": {
      "text/plain": [
       "5010"
      ]
     },
     "execution_count": 6,
     "metadata": {},
     "output_type": "execute_result"
    }
   ],
   "source": [
    "data['index'].nunique()"
   ]
  },
  {
   "cell_type": "code",
   "execution_count": 7,
   "id": "4bb55eec",
   "metadata": {},
   "outputs": [
    {
     "data": {
      "text/plain": [
       "index              0\n",
       "product            0\n",
       "helpful_count      0\n",
       "total_comments     0\n",
       "url                0\n",
       "review_country     0\n",
       "reviewed_at        0\n",
       "review_text        3\n",
       "review_rating      0\n",
       "product_company    0\n",
       "profile_name       0\n",
       "review_title       2\n",
       "dtype: int64"
      ]
     },
     "execution_count": 7,
     "metadata": {},
     "output_type": "execute_result"
    }
   ],
   "source": [
    "data.isna().sum()"
   ]
  },
  {
   "cell_type": "code",
   "execution_count": 8,
   "id": "a40307b6",
   "metadata": {},
   "outputs": [],
   "source": [
    "data.dropna(inplace=True)"
   ]
  },
  {
   "cell_type": "code",
   "execution_count": 9,
   "id": "b6c51368",
   "metadata": {},
   "outputs": [
    {
     "data": {
      "text/plain": [
       "(5007, 12)"
      ]
     },
     "execution_count": 9,
     "metadata": {},
     "output_type": "execute_result"
    }
   ],
   "source": [
    "data.shape"
   ]
  },
  {
   "cell_type": "code",
   "execution_count": 10,
   "id": "c3c3b91e",
   "metadata": {},
   "outputs": [
    {
     "name": "stdout",
     "output_type": "stream",
     "text": [
      "<class 'pandas.core.frame.DataFrame'>\n",
      "Index: 5007 entries, 0 to 5009\n",
      "Data columns (total 12 columns):\n",
      " #   Column           Non-Null Count  Dtype \n",
      "---  ------           --------------  ----- \n",
      " 0   index            5007 non-null   int64 \n",
      " 1   product          5007 non-null   object\n",
      " 2   helpful_count    5007 non-null   object\n",
      " 3   total_comments   5007 non-null   int64 \n",
      " 4   url              5007 non-null   object\n",
      " 5   review_country   5007 non-null   object\n",
      " 6   reviewed_at      5007 non-null   object\n",
      " 7   review_text      5007 non-null   object\n",
      " 8   review_rating    5007 non-null   object\n",
      " 9   product_company  5007 non-null   object\n",
      " 10  profile_name     5007 non-null   object\n",
      " 11  review_title     5007 non-null   object\n",
      "dtypes: int64(2), object(10)\n",
      "memory usage: 508.5+ KB\n"
     ]
    }
   ],
   "source": [
    "data.info()"
   ]
  },
  {
   "cell_type": "code",
   "execution_count": 11,
   "id": "833f5b8d",
   "metadata": {},
   "outputs": [
    {
     "data": {
      "text/plain": [
       "True"
      ]
     },
     "execution_count": 11,
     "metadata": {},
     "output_type": "execute_result"
    }
   ],
   "source": [
    "len(data.index == data.index.nunique()) == data.shape[0]"
   ]
  },
  {
   "cell_type": "code",
   "execution_count": 12,
   "id": "3c573cc9",
   "metadata": {},
   "outputs": [],
   "source": [
    "data.drop(['index'], axis = 1, inplace = True)"
   ]
  },
  {
   "cell_type": "code",
   "execution_count": 13,
   "id": "9c12e565",
   "metadata": {},
   "outputs": [],
   "source": [
    "# Converting helpful_count to int\n",
    "\n",
    "def helpfull(x):\n",
    "    helpful = x.split()[0]\n",
    "    if helpful == 'One':\n",
    "        return 1\n",
    "    elif ',' in helpful:\n",
    "        return int(helpful.replace(',', ''))\n",
    "    else:\n",
    "        return int(helpful)\n",
    "\n",
    "data['helpful'] = data['helpful_count'].apply(helpfull)\n"
   ]
  },
  {
   "cell_type": "code",
   "execution_count": 14,
   "id": "9ce52241",
   "metadata": {},
   "outputs": [],
   "source": [
    "data['rating'] = data.review_rating.apply(lambda x: float(x.split()[0]))"
   ]
  },
  {
   "cell_type": "code",
   "execution_count": 15,
   "id": "749da835",
   "metadata": {},
   "outputs": [
    {
     "data": {
      "text/plain": [
       "rating\n",
       "5.0    3730\n",
       "4.0     718\n",
       "1.0     319\n",
       "3.0     153\n",
       "2.0      87\n",
       "Name: count, dtype: int64"
      ]
     },
     "execution_count": 15,
     "metadata": {},
     "output_type": "execute_result"
    }
   ],
   "source": [
    "data.rating.value_counts()"
   ]
  },
  {
   "cell_type": "code",
   "execution_count": 16,
   "id": "381082f0",
   "metadata": {},
   "outputs": [],
   "source": [
    "# drop useless columns\n",
    "data.drop(['helpful_count', 'review_rating', 'url', 'reviewed_at'], axis = 1, inplace = True)"
   ]
  },
  {
   "cell_type": "code",
   "execution_count": 17,
   "id": "7411f4fa",
   "metadata": {},
   "outputs": [
    {
     "data": {
      "text/html": [
       "<div>\n",
       "<style scoped>\n",
       "    .dataframe tbody tr th:only-of-type {\n",
       "        vertical-align: middle;\n",
       "    }\n",
       "\n",
       "    .dataframe tbody tr th {\n",
       "        vertical-align: top;\n",
       "    }\n",
       "\n",
       "    .dataframe thead th {\n",
       "        text-align: right;\n",
       "    }\n",
       "</style>\n",
       "<table border=\"1\" class=\"dataframe\">\n",
       "  <thead>\n",
       "    <tr style=\"text-align: right;\">\n",
       "      <th></th>\n",
       "      <th>product</th>\n",
       "      <th>total_comments</th>\n",
       "      <th>review_country</th>\n",
       "      <th>review_text</th>\n",
       "      <th>product_company</th>\n",
       "      <th>profile_name</th>\n",
       "      <th>review_title</th>\n",
       "      <th>helpful</th>\n",
       "      <th>rating</th>\n",
       "    </tr>\n",
       "  </thead>\n",
       "  <tbody>\n",
       "    <tr>\n",
       "      <th>0</th>\n",
       "      <td>Apple iPhone XR (64GB) - Black</td>\n",
       "      <td>24</td>\n",
       "      <td>India</td>\n",
       "      <td>NOTE:</td>\n",
       "      <td>Apple</td>\n",
       "      <td>Sameer Patil</td>\n",
       "      <td>Which iPhone you should Purchase ? iPhone 8, X...</td>\n",
       "      <td>5087</td>\n",
       "      <td>3.0</td>\n",
       "    </tr>\n",
       "    <tr>\n",
       "      <th>1</th>\n",
       "      <td>Apple iPhone XR (64GB) - Black</td>\n",
       "      <td>6</td>\n",
       "      <td>India</td>\n",
       "      <td>Very bad experience with this iPhone xr phone....</td>\n",
       "      <td>Apple</td>\n",
       "      <td>Amazon Customer</td>\n",
       "      <td>Don't buy iPhone xr from Amazon.</td>\n",
       "      <td>2822</td>\n",
       "      <td>1.0</td>\n",
       "    </tr>\n",
       "    <tr>\n",
       "      <th>2</th>\n",
       "      <td>Apple iPhone XR (64GB) - Black</td>\n",
       "      <td>0</td>\n",
       "      <td>India</td>\n",
       "      <td>Amazing phone with amazing camera coming from ...</td>\n",
       "      <td>Apple</td>\n",
       "      <td>A</td>\n",
       "      <td>Happy with the purchase</td>\n",
       "      <td>1798</td>\n",
       "      <td>5.0</td>\n",
       "    </tr>\n",
       "    <tr>\n",
       "      <th>3</th>\n",
       "      <td>Apple iPhone XR (64GB) - Black</td>\n",
       "      <td>14</td>\n",
       "      <td>India</td>\n",
       "      <td>So I got the iPhone XR just today. The product...</td>\n",
       "      <td>Apple</td>\n",
       "      <td>Shubham Dutta</td>\n",
       "      <td>Amazon is not an apple authorised reseller. Pl...</td>\n",
       "      <td>1366</td>\n",
       "      <td>1.0</td>\n",
       "    </tr>\n",
       "    <tr>\n",
       "      <th>4</th>\n",
       "      <td>Apple iPhone XR (64GB) - Black</td>\n",
       "      <td>5</td>\n",
       "      <td>India</td>\n",
       "      <td>I've been an android user all my life until I ...</td>\n",
       "      <td>Apple</td>\n",
       "      <td>Nepuni Lokho</td>\n",
       "      <td>Excellent Battery life and buttery smooth UI</td>\n",
       "      <td>536</td>\n",
       "      <td>5.0</td>\n",
       "    </tr>\n",
       "  </tbody>\n",
       "</table>\n",
       "</div>"
      ],
      "text/plain": [
       "                          product  total_comments review_country  \\\n",
       "0  Apple iPhone XR (64GB) - Black              24         India    \n",
       "1  Apple iPhone XR (64GB) - Black               6         India    \n",
       "2  Apple iPhone XR (64GB) - Black               0         India    \n",
       "3  Apple iPhone XR (64GB) - Black              14         India    \n",
       "4  Apple iPhone XR (64GB) - Black               5         India    \n",
       "\n",
       "                                         review_text product_company  \\\n",
       "0                                              NOTE:           Apple   \n",
       "1  Very bad experience with this iPhone xr phone....           Apple   \n",
       "2  Amazing phone with amazing camera coming from ...           Apple   \n",
       "3  So I got the iPhone XR just today. The product...           Apple   \n",
       "4  I've been an android user all my life until I ...           Apple   \n",
       "\n",
       "      profile_name                                       review_title  \\\n",
       "0     Sameer Patil  Which iPhone you should Purchase ? iPhone 8, X...   \n",
       "1  Amazon Customer                   Don't buy iPhone xr from Amazon.   \n",
       "2                A                            Happy with the purchase   \n",
       "3    Shubham Dutta  Amazon is not an apple authorised reseller. Pl...   \n",
       "4     Nepuni Lokho       Excellent Battery life and buttery smooth UI   \n",
       "\n",
       "   helpful  rating  \n",
       "0     5087     3.0  \n",
       "1     2822     1.0  \n",
       "2     1798     5.0  \n",
       "3     1366     1.0  \n",
       "4      536     5.0  "
      ]
     },
     "execution_count": 17,
     "metadata": {},
     "output_type": "execute_result"
    }
   ],
   "source": [
    "data.head()"
   ]
  },
  {
   "cell_type": "code",
   "execution_count": 18,
   "id": "8ee3c629",
   "metadata": {},
   "outputs": [
    {
     "name": "stdout",
     "output_type": "stream",
     "text": [
      "Numeric Columns: Index(['total_comments', 'helpful', 'rating'], dtype='object') \n",
      "Total: 3\n",
      "\n",
      "Categoric Columns: Index(['product', 'review_country', 'review_text', 'product_company',\n",
      "       'profile_name', 'review_title'],\n",
      "      dtype='object') \n",
      "Total: 6\n"
     ]
    }
   ],
   "source": [
    "# numeric and categoric data\n",
    "\n",
    "numeric_data = data.select_dtypes('number').columns\n",
    "categoric_data = data.select_dtypes('object').columns\n",
    "\n",
    "print(\"Numeric Columns:\", numeric_data, '\\nTotal:', len(numeric_data))\n",
    "print(\"\\nCategoric Columns:\", categoric_data, '\\nTotal:', len(categoric_data))"
   ]
  },
  {
   "cell_type": "code",
   "execution_count": 19,
   "id": "a54064c8",
   "metadata": {},
   "outputs": [
    {
     "data": {
      "text/html": [
       "<div>\n",
       "<style scoped>\n",
       "    .dataframe tbody tr th:only-of-type {\n",
       "        vertical-align: middle;\n",
       "    }\n",
       "\n",
       "    .dataframe tbody tr th {\n",
       "        vertical-align: top;\n",
       "    }\n",
       "\n",
       "    .dataframe thead th {\n",
       "        text-align: right;\n",
       "    }\n",
       "</style>\n",
       "<table border=\"1\" class=\"dataframe\">\n",
       "  <thead>\n",
       "    <tr style=\"text-align: right;\">\n",
       "      <th></th>\n",
       "      <th>total_comments</th>\n",
       "      <th>helpful</th>\n",
       "      <th>rating</th>\n",
       "    </tr>\n",
       "  </thead>\n",
       "  <tbody>\n",
       "    <tr>\n",
       "      <th>count</th>\n",
       "      <td>5007.000000</td>\n",
       "      <td>5007.000000</td>\n",
       "      <td>5007.000000</td>\n",
       "    </tr>\n",
       "    <tr>\n",
       "      <th>mean</th>\n",
       "      <td>0.030957</td>\n",
       "      <td>5.419013</td>\n",
       "      <td>4.488516</td>\n",
       "    </tr>\n",
       "    <tr>\n",
       "      <th>std</th>\n",
       "      <td>0.589596</td>\n",
       "      <td>125.406026</td>\n",
       "      <td>1.086279</td>\n",
       "    </tr>\n",
       "    <tr>\n",
       "      <th>min</th>\n",
       "      <td>0.000000</td>\n",
       "      <td>0.000000</td>\n",
       "      <td>1.000000</td>\n",
       "    </tr>\n",
       "    <tr>\n",
       "      <th>25%</th>\n",
       "      <td>0.000000</td>\n",
       "      <td>0.000000</td>\n",
       "      <td>4.000000</td>\n",
       "    </tr>\n",
       "    <tr>\n",
       "      <th>50%</th>\n",
       "      <td>0.000000</td>\n",
       "      <td>0.000000</td>\n",
       "      <td>5.000000</td>\n",
       "    </tr>\n",
       "    <tr>\n",
       "      <th>75%</th>\n",
       "      <td>0.000000</td>\n",
       "      <td>0.000000</td>\n",
       "      <td>5.000000</td>\n",
       "    </tr>\n",
       "    <tr>\n",
       "      <th>max</th>\n",
       "      <td>24.000000</td>\n",
       "      <td>5087.000000</td>\n",
       "      <td>5.000000</td>\n",
       "    </tr>\n",
       "  </tbody>\n",
       "</table>\n",
       "</div>"
      ],
      "text/plain": [
       "       total_comments      helpful       rating\n",
       "count     5007.000000  5007.000000  5007.000000\n",
       "mean         0.030957     5.419013     4.488516\n",
       "std          0.589596   125.406026     1.086279\n",
       "min          0.000000     0.000000     1.000000\n",
       "25%          0.000000     0.000000     4.000000\n",
       "50%          0.000000     0.000000     5.000000\n",
       "75%          0.000000     0.000000     5.000000\n",
       "max         24.000000  5087.000000     5.000000"
      ]
     },
     "execution_count": 19,
     "metadata": {},
     "output_type": "execute_result"
    }
   ],
   "source": [
    "data[numeric_data].describe()"
   ]
  },
  {
   "cell_type": "code",
   "execution_count": 20,
   "id": "02666654",
   "metadata": {},
   "outputs": [
    {
     "data": {
      "image/png": "[encoded data removed]",
      "text/plain": [
       "<Figure size 1500x600 with 3 Axes>"
      ]
     },
     "metadata": {},
     "output_type": "display_data"
    }
   ],
   "source": [
    "# numeric data visualization\n",
    "\n",
    "plt.figure(figsize=(15,6))\n",
    "\n",
    "for idx, col in enumerate(numeric_data):\n",
    "    plt.subplot(1, 3, idx+1)\n",
    "    sns.histplot(data[col], bins=15)\n",
    "    plt.title(col)"
   ]
  },
  {
   "cell_type": "code",
   "execution_count": 21,
   "id": "8fe9847b",
   "metadata": {},
   "outputs": [
    {
     "data": {
      "text/plain": [
       "<Axes: >"
      ]
     },
     "execution_count": 21,
     "metadata": {},
     "output_type": "execute_result"
    },
    {
     "data": {
      "image/png": "[encoded data removed]",
      "text/plain": [
       "<Figure size 640x480 with 2 Axes>"
      ]
     },
     "metadata": {},
     "output_type": "display_data"
    }
   ],
   "source": [
    "sns.heatmap(data[numeric_data].corr(), annot=True, cmap='coolwarm')"
   ]
  },
  {
   "cell_type": "code",
   "execution_count": 22,
   "id": "06b79527",
   "metadata": {},
   "outputs": [
    {
     "data": {
      "text/plain": [
       "total_comments\n",
       "0     4951\n",
       "1       41\n",
       "2        5\n",
       "24       2\n",
       "6        2\n",
       "14       2\n",
       "5        2\n",
       "3        2\n",
       "Name: count, dtype: int64"
      ]
     },
     "execution_count": 22,
     "metadata": {},
     "output_type": "execute_result"
    }
   ],
   "source": [
    "data.total_comments.value_counts()"
   ]
  },
  {
   "cell_type": "code",
   "execution_count": 23,
   "id": "54cf91e0",
   "metadata": {},
   "outputs": [
    {
     "data": {
      "text/plain": [
       "helpful\n",
       "0       4267\n",
       "1        515\n",
       "2        102\n",
       "3         26\n",
       "4         12\n",
       "5         11\n",
       "9          5\n",
       "7          4\n",
       "6          4\n",
       "15         4\n",
       "14         3\n",
       "10         3\n",
       "19         2\n",
       "8          2\n",
       "12         2\n",
       "35         2\n",
       "2822       2\n",
       "5087       2\n",
       "1798       2\n",
       "1366       2\n",
       "536        2\n",
       "313        2\n",
       "189        2\n",
       "164        2\n",
       "124        2\n",
       "94         2\n",
       "54         1\n",
       "11         1\n",
       "13         1\n",
       "88         1\n",
       "69         1\n",
       "63         1\n",
       "18         1\n",
       "21         1\n",
       "38         1\n",
       "17         1\n",
       "60         1\n",
       "55         1\n",
       "25         1\n",
       "16         1\n",
       "23         1\n",
       "62         1\n",
       "24         1\n",
       "45         1\n",
       "26         1\n",
       "28         1\n",
       "32         1\n",
       "53         1\n",
       "29         1\n",
       "Name: count, dtype: int64"
      ]
     },
     "execution_count": 23,
     "metadata": {},
     "output_type": "execute_result"
    }
   ],
   "source": [
    "data.helpful.value_counts()"
   ]
  },
  {
   "cell_type": "code",
   "execution_count": 24,
   "id": "1803e189",
   "metadata": {},
   "outputs": [],
   "source": [
    "# total_comments and helpful column doesn't seem useful\n",
    "\n",
    "data.drop(['helpful', 'total_comments'], axis = 1, inplace = True)"
   ]
  },
  {
   "cell_type": "code",
   "execution_count": 25,
   "id": "ec8530c3",
   "metadata": {},
   "outputs": [
    {
     "name": "stdout",
     "output_type": "stream",
     "text": [
      "1 unique values found: ['Apple iPhone XR (64GB) - Black']\n",
      "1 unique values found: [' India ']\n",
      "1 unique values found: ['Apple']\n",
      "4097 unique values found: ['Sameer Patil' 'Amazon Customer' 'A' ... 'Shreya' 'murali hv'\n",
      " 'basil john p']\n"
     ]
    }
   ],
   "source": [
    "for idx, col in enumerate(categoric_data):\n",
    "    if col == 'review_text' or col == 'review_title':\n",
    "        continue\n",
    "    print(f'{data[col].nunique()} unique values found: {data[col].unique()}')"
   ]
  },
  {
   "cell_type": "code",
   "execution_count": 26,
   "id": "3ac71a4f",
   "metadata": {},
   "outputs": [],
   "source": [
    "# drop other categoric columns\n",
    "\n",
    "data.drop(['product', 'review_country', 'product_company', 'profile_name'], axis = 1, inplace = True)"
   ]
  },
  {
   "cell_type": "code",
   "execution_count": 27,
   "id": "b259f8e9",
   "metadata": {},
   "outputs": [
    {
     "data": {
      "text/html": [
       "<div>\n",
       "<style scoped>\n",
       "    .dataframe tbody tr th:only-of-type {\n",
       "        vertical-align: middle;\n",
       "    }\n",
       "\n",
       "    .dataframe tbody tr th {\n",
       "        vertical-align: top;\n",
       "    }\n",
       "\n",
       "    .dataframe thead th {\n",
       "        text-align: right;\n",
       "    }\n",
       "</style>\n",
       "<table border=\"1\" class=\"dataframe\">\n",
       "  <thead>\n",
       "    <tr style=\"text-align: right;\">\n",
       "      <th></th>\n",
       "      <th>review_text</th>\n",
       "      <th>review_title</th>\n",
       "      <th>rating</th>\n",
       "    </tr>\n",
       "  </thead>\n",
       "  <tbody>\n",
       "    <tr>\n",
       "      <th>0</th>\n",
       "      <td>NOTE:</td>\n",
       "      <td>Which iPhone you should Purchase ? iPhone 8, X...</td>\n",
       "      <td>3.0</td>\n",
       "    </tr>\n",
       "    <tr>\n",
       "      <th>1</th>\n",
       "      <td>Very bad experience with this iPhone xr phone....</td>\n",
       "      <td>Don't buy iPhone xr from Amazon.</td>\n",
       "      <td>1.0</td>\n",
       "    </tr>\n",
       "    <tr>\n",
       "      <th>2</th>\n",
       "      <td>Amazing phone with amazing camera coming from ...</td>\n",
       "      <td>Happy with the purchase</td>\n",
       "      <td>5.0</td>\n",
       "    </tr>\n",
       "    <tr>\n",
       "      <th>3</th>\n",
       "      <td>So I got the iPhone XR just today. The product...</td>\n",
       "      <td>Amazon is not an apple authorised reseller. Pl...</td>\n",
       "      <td>1.0</td>\n",
       "    </tr>\n",
       "    <tr>\n",
       "      <th>4</th>\n",
       "      <td>I've been an android user all my life until I ...</td>\n",
       "      <td>Excellent Battery life and buttery smooth UI</td>\n",
       "      <td>5.0</td>\n",
       "    </tr>\n",
       "  </tbody>\n",
       "</table>\n",
       "</div>"
      ],
      "text/plain": [
       "                                         review_text  \\\n",
       "0                                              NOTE:   \n",
       "1  Very bad experience with this iPhone xr phone....   \n",
       "2  Amazing phone with amazing camera coming from ...   \n",
       "3  So I got the iPhone XR just today. The product...   \n",
       "4  I've been an android user all my life until I ...   \n",
       "\n",
       "                                        review_title  rating  \n",
       "0  Which iPhone you should Purchase ? iPhone 8, X...     3.0  \n",
       "1                   Don't buy iPhone xr from Amazon.     1.0  \n",
       "2                            Happy with the purchase     5.0  \n",
       "3  Amazon is not an apple authorised reseller. Pl...     1.0  \n",
       "4       Excellent Battery life and buttery smooth UI     5.0  "
      ]
     },
     "execution_count": 27,
     "metadata": {},
     "output_type": "execute_result"
    }
   ],
   "source": [
    "data.head()"
   ]
  },
  {
   "cell_type": "code",
   "execution_count": 28,
   "id": "0ba5929a",
   "metadata": {},
   "outputs": [],
   "source": [
    "# Merge review_title and review_text columns\n",
    "\n",
    "data['full_review'] = data['review_title'] + ': ' + data['review_text']"
   ]
  },
  {
   "cell_type": "code",
   "execution_count": 29,
   "id": "bcbea131",
   "metadata": {},
   "outputs": [],
   "source": [
    "data.drop(['review_title', 'review_text'], axis = 1, inplace = True)"
   ]
  },
  {
   "cell_type": "code",
   "execution_count": 30,
   "id": "f81e65be",
   "metadata": {},
   "outputs": [
    {
     "data": {
      "text/html": [
       "<div>\n",
       "<style scoped>\n",
       "    .dataframe tbody tr th:only-of-type {\n",
       "        vertical-align: middle;\n",
       "    }\n",
       "\n",
       "    .dataframe tbody tr th {\n",
       "        vertical-align: top;\n",
       "    }\n",
       "\n",
       "    .dataframe thead th {\n",
       "        text-align: right;\n",
       "    }\n",
       "</style>\n",
       "<table border=\"1\" class=\"dataframe\">\n",
       "  <thead>\n",
       "    <tr style=\"text-align: right;\">\n",
       "      <th></th>\n",
       "      <th>rating</th>\n",
       "      <th>full_review</th>\n",
       "    </tr>\n",
       "  </thead>\n",
       "  <tbody>\n",
       "    <tr>\n",
       "      <th>0</th>\n",
       "      <td>3.0</td>\n",
       "      <td>Which iPhone you should Purchase ? iPhone 8, X...</td>\n",
       "    </tr>\n",
       "    <tr>\n",
       "      <th>1</th>\n",
       "      <td>1.0</td>\n",
       "      <td>Don't buy iPhone xr from Amazon.: Very bad exp...</td>\n",
       "    </tr>\n",
       "    <tr>\n",
       "      <th>2</th>\n",
       "      <td>5.0</td>\n",
       "      <td>Happy with the purchase: Amazing phone with am...</td>\n",
       "    </tr>\n",
       "    <tr>\n",
       "      <th>3</th>\n",
       "      <td>1.0</td>\n",
       "      <td>Amazon is not an apple authorised reseller. Pl...</td>\n",
       "    </tr>\n",
       "    <tr>\n",
       "      <th>4</th>\n",
       "      <td>5.0</td>\n",
       "      <td>Excellent Battery life and buttery smooth UI: ...</td>\n",
       "    </tr>\n",
       "  </tbody>\n",
       "</table>\n",
       "</div>"
      ],
      "text/plain": [
       "   rating                                        full_review\n",
       "0     3.0  Which iPhone you should Purchase ? iPhone 8, X...\n",
       "1     1.0  Don't buy iPhone xr from Amazon.: Very bad exp...\n",
       "2     5.0  Happy with the purchase: Amazing phone with am...\n",
       "3     1.0  Amazon is not an apple authorised reseller. Pl...\n",
       "4     5.0  Excellent Battery life and buttery smooth UI: ..."
      ]
     },
     "execution_count": 30,
     "metadata": {},
     "output_type": "execute_result"
    }
   ],
   "source": [
    "data.head()"
   ]
  },
  {
   "cell_type": "code",
   "execution_count": 31,
   "id": "2b2cf457",
   "metadata": {},
   "outputs": [
    {
     "data": {
      "text/plain": [
       "'I Phone XR: I am satisfied with the product'"
      ]
     },
     "execution_count": 31,
     "metadata": {},
     "output_type": "execute_result"
    }
   ],
   "source": [
    "data['full_review'][2863]"
   ]
  },
  {
   "cell_type": "code",
   "execution_count": 32,
   "id": "42d38316",
   "metadata": {},
   "outputs": [],
   "source": [
    "# Sentiment on basis of rating\n",
    "\n",
    "data['sentiment_on_basis_of_rating'] = np.where(data.rating < 3, 'Negative', np.where(data.rating == 3, 'Neutral', 'Positive'))"
   ]
  },
  {
   "cell_type": "code",
   "execution_count": 33,
   "id": "42b7d793",
   "metadata": {},
   "outputs": [
    {
     "data": {
      "image/png": "[encoded data removed]",
      "text/plain": [
       "<Figure size 640x480 with 1 Axes>"
      ]
     },
     "metadata": {},
     "output_type": "display_data"
    }
   ],
   "source": [
    "sentiment_counts = data['sentiment_on_basis_of_rating'].value_counts()\n",
    "\n",
    "labels = sentiment_counts.index\n",
    "values = sentiment_counts.values\n",
    "\n",
    "plt.pie(values, labels=labels, autopct='%1.1f%%')\n",
    "plt.title(\"Sentiment Distribution (on the basis of user's ratings)\")\n",
    "plt.show()"
   ]
  },
  {
   "cell_type": "code",
   "execution_count": 34,
   "id": "211e5551",
   "metadata": {},
   "outputs": [
    {
     "data": {
      "text/html": [
       "<div>\n",
       "<style scoped>\n",
       "    .dataframe tbody tr th:only-of-type {\n",
       "        vertical-align: middle;\n",
       "    }\n",
       "\n",
       "    .dataframe tbody tr th {\n",
       "        vertical-align: top;\n",
       "    }\n",
       "\n",
       "    .dataframe thead th {\n",
       "        text-align: right;\n",
       "    }\n",
       "</style>\n",
       "<table border=\"1\" class=\"dataframe\">\n",
       "  <thead>\n",
       "    <tr style=\"text-align: right;\">\n",
       "      <th></th>\n",
       "      <th>rating</th>\n",
       "      <th>full_review</th>\n",
       "      <th>sentiment_on_basis_of_rating</th>\n",
       "    </tr>\n",
       "  </thead>\n",
       "  <tbody>\n",
       "    <tr>\n",
       "      <th>5005</th>\n",
       "      <td>4.0</td>\n",
       "      <td>Dhamaka phone: Dhamaka</td>\n",
       "      <td>Positive</td>\n",
       "    </tr>\n",
       "    <tr>\n",
       "      <th>5006</th>\n",
       "      <td>4.0</td>\n",
       "      <td>Good: Goodbye</td>\n",
       "      <td>Positive</td>\n",
       "    </tr>\n",
       "    <tr>\n",
       "      <th>5007</th>\n",
       "      <td>5.0</td>\n",
       "      <td>Fantabulous phone. Easy to use.: Nothing</td>\n",
       "      <td>Positive</td>\n",
       "    </tr>\n",
       "    <tr>\n",
       "      <th>5008</th>\n",
       "      <td>5.0</td>\n",
       "      <td>Fantastic: Superbb</td>\n",
       "      <td>Positive</td>\n",
       "    </tr>\n",
       "    <tr>\n",
       "      <th>5009</th>\n",
       "      <td>5.0</td>\n",
       "      <td>Best purchase: Nothing</td>\n",
       "      <td>Positive</td>\n",
       "    </tr>\n",
       "  </tbody>\n",
       "</table>\n",
       "</div>"
      ],
      "text/plain": [
       "      rating                               full_review  \\\n",
       "5005     4.0                    Dhamaka phone: Dhamaka   \n",
       "5006     4.0                             Good: Goodbye   \n",
       "5007     5.0  Fantabulous phone. Easy to use.: Nothing   \n",
       "5008     5.0                        Fantastic: Superbb   \n",
       "5009     5.0                    Best purchase: Nothing   \n",
       "\n",
       "     sentiment_on_basis_of_rating  \n",
       "5005                     Positive  \n",
       "5006                     Positive  \n",
       "5007                     Positive  \n",
       "5008                     Positive  \n",
       "5009                     Positive  "
      ]
     },
     "execution_count": 34,
     "metadata": {},
     "output_type": "execute_result"
    }
   ],
   "source": [
    "data.tail()"
   ]
  },
  {
   "cell_type": "code",
   "execution_count": 35,
   "id": "252ed7d4",
   "metadata": {},
   "outputs": [],
   "source": [
    "nlp = spacy.load('en_core_web_sm')\n",
    "\n",
    "# used to load the English language model in spaCy"
   ]
  },
  {
   "cell_type": "code",
   "execution_count": 36,
   "id": "b5bed574",
   "metadata": {},
   "outputs": [
    {
     "data": {
      "text/plain": [
       "'Amazing iPhone model: I purchased this beauty in big billion sale. Thus I got it at a remarkable price. The battery life is good so far and the speed has been pretty good. I love the overall look, size and design of this model a lot. The camera quality is great but definitely the higher version have a better camera quality experience to provide.'"
      ]
     },
     "execution_count": 36,
     "metadata": {},
     "output_type": "execute_result"
    }
   ],
   "source": [
    "# text cleaning (example)\n",
    "\n",
    "data['full_review'][405]"
   ]
  },
  {
   "cell_type": "code",
   "execution_count": 37,
   "id": "5f5451e8",
   "metadata": {},
   "outputs": [
    {
     "name": "stdout",
     "output_type": "stream",
     "text": [
      "amazing\n",
      "iphone\n",
      "model\n",
      ":\n",
      "i\n",
      "purchased\n",
      "this\n",
      "beauty\n",
      "in\n",
      "big\n",
      "billion\n",
      "sale\n",
      ".\n",
      "thus\n",
      "i\n",
      "got\n",
      "it\n",
      "at\n",
      "a\n",
      "remarkable\n",
      "price\n",
      ".\n",
      "the\n",
      "battery\n",
      "life\n",
      "is\n",
      "good\n",
      "so\n",
      "far\n",
      "and\n",
      "the\n",
      "speed\n",
      "has\n",
      "been\n",
      "pretty\n",
      "good\n",
      ".\n",
      "i\n",
      "love\n",
      "the\n",
      "overall\n",
      "look\n",
      ",\n",
      "size\n",
      "and\n",
      "design\n",
      "of\n",
      "this\n",
      "model\n",
      "a\n",
      "lot\n",
      ".\n",
      "the\n",
      "camera\n",
      "quality\n",
      "is\n",
      "great\n",
      "but\n",
      "definitely\n",
      "the\n",
      "higher\n",
      "version\n",
      "have\n",
      "a\n",
      "better\n",
      "camera\n",
      "quality\n",
      "experience\n",
      "to\n",
      "provide\n",
      ".\n"
     ]
    }
   ],
   "source": [
    "doc = nlp(data['full_review'][405].lower())\n",
    "for token in doc:\n",
    "    print(token)"
   ]
  },
  {
   "cell_type": "code",
   "execution_count": 38,
   "id": "d249a07d",
   "metadata": {},
   "outputs": [
    {
     "name": "stdout",
     "output_type": "stream",
     "text": [
      "[amazing, iphone, model, :, purchased, beauty, big, billion, sale, ., got, remarkable, price, ., battery, life, good, far, speed, pretty, good, ., love, overall, look, ,, size, design, model, lot, ., camera, quality, great, definitely, higher, version, better, camera, quality, experience, provide, .]\n"
     ]
    }
   ],
   "source": [
    "tokens = []\n",
    "for token in doc:\n",
    "    if not token.is_stop:\n",
    "        tokens.append(token)\n",
    "\n",
    "print(tokens)"
   ]
  },
  {
   "cell_type": "code",
   "execution_count": 39,
   "id": "f17f26d0",
   "metadata": {},
   "outputs": [
    {
     "data": {
      "text/plain": [
       "[amazing,\n",
       " iphone,\n",
       " model,\n",
       " purchased,\n",
       " beauty,\n",
       " big,\n",
       " billion,\n",
       " sale,\n",
       " got,\n",
       " remarkable,\n",
       " price,\n",
       " battery,\n",
       " life,\n",
       " good,\n",
       " far,\n",
       " speed,\n",
       " pretty,\n",
       " good,\n",
       " love,\n",
       " overall,\n",
       " look,\n",
       " size,\n",
       " design,\n",
       " model,\n",
       " lot,\n",
       " camera,\n",
       " quality,\n",
       " great,\n",
       " definitely,\n",
       " higher,\n",
       " version,\n",
       " better,\n",
       " camera,\n",
       " quality,\n",
       " experience,\n",
       " provide]"
      ]
     },
     "execution_count": 39,
     "metadata": {},
     "output_type": "execute_result"
    }
   ],
   "source": [
    "tokens = [token for token in tokens if not token.is_punct]\n",
    "tokens"
   ]
  },
  {
   "cell_type": "code",
   "execution_count": 40,
   "id": "9c72e043",
   "metadata": {},
   "outputs": [
    {
     "data": {
      "text/plain": [
       "['amazing',\n",
       " 'iphone',\n",
       " 'model',\n",
       " 'purchase',\n",
       " 'beauty',\n",
       " 'big',\n",
       " 'billion',\n",
       " 'sale',\n",
       " 'get',\n",
       " 'remarkable',\n",
       " 'price',\n",
       " 'battery',\n",
       " 'life',\n",
       " 'good',\n",
       " 'far',\n",
       " 'speed',\n",
       " 'pretty',\n",
       " 'good',\n",
       " 'love',\n",
       " 'overall',\n",
       " 'look',\n",
       " 'size',\n",
       " 'design',\n",
       " 'model',\n",
       " 'lot',\n",
       " 'camera',\n",
       " 'quality',\n",
       " 'great',\n",
       " 'definitely',\n",
       " 'high',\n",
       " 'version',\n",
       " 'well',\n",
       " 'camera',\n",
       " 'quality',\n",
       " 'experience',\n",
       " 'provide']"
      ]
     },
     "execution_count": 40,
     "metadata": {},
     "output_type": "execute_result"
    }
   ],
   "source": [
    "tokens = [token.lemma_ for token in tokens]\n",
    "tokens"
   ]
  },
  {
   "cell_type": "code",
   "execution_count": 41,
   "id": "7e49e239",
   "metadata": {},
   "outputs": [
    {
     "data": {
      "text/plain": [
       "'amazing iphone model purchase beauty big billion sale get remarkable price battery life good far speed pretty good love overall look size design model lot camera quality great definitely high version well camera quality experience provide'"
      ]
     },
     "execution_count": 41,
     "metadata": {},
     "output_type": "execute_result"
    }
   ],
   "source": [
    "' '.join(tokens)"
   ]
  },
  {
   "cell_type": "code",
   "execution_count": 42,
   "id": "79863d3f",
   "metadata": {},
   "outputs": [],
   "source": [
    "# applying to whole column\n",
    "\n",
    "data['clean_review'] = data['full_review'].apply(lambda x: ' '.join([\n",
    "    token.lemma_ for token in nlp(x.lower())\n",
    "    if not token.is_stop and not token.is_punct and not token.is_digit\n",
    "]))\n"
   ]
  },
  {
   "cell_type": "code",
   "execution_count": 43,
   "id": "ee558332",
   "metadata": {},
   "outputs": [
    {
     "data": {
      "text/html": [
       "<div>\n",
       "<style scoped>\n",
       "    .dataframe tbody tr th:only-of-type {\n",
       "        vertical-align: middle;\n",
       "    }\n",
       "\n",
       "    .dataframe tbody tr th {\n",
       "        vertical-align: top;\n",
       "    }\n",
       "\n",
       "    .dataframe thead th {\n",
       "        text-align: right;\n",
       "    }\n",
       "</style>\n",
       "<table border=\"1\" class=\"dataframe\">\n",
       "  <thead>\n",
       "    <tr style=\"text-align: right;\">\n",
       "      <th></th>\n",
       "      <th>rating</th>\n",
       "      <th>full_review</th>\n",
       "      <th>sentiment_on_basis_of_rating</th>\n",
       "      <th>clean_review</th>\n",
       "    </tr>\n",
       "  </thead>\n",
       "  <tbody>\n",
       "    <tr>\n",
       "      <th>0</th>\n",
       "      <td>3.0</td>\n",
       "      <td>Which iPhone you should Purchase ? iPhone 8, X...</td>\n",
       "      <td>Neutral</td>\n",
       "      <td>iphone purchase iphone x xs xr note</td>\n",
       "    </tr>\n",
       "    <tr>\n",
       "      <th>1</th>\n",
       "      <td>1.0</td>\n",
       "      <td>Don't buy iPhone xr from Amazon.: Very bad exp...</td>\n",
       "      <td>Negative</td>\n",
       "      <td>buy iphone xr amazon bad experience iphone xr ...</td>\n",
       "    </tr>\n",
       "    <tr>\n",
       "      <th>2</th>\n",
       "      <td>5.0</td>\n",
       "      <td>Happy with the purchase: Amazing phone with am...</td>\n",
       "      <td>Positive</td>\n",
       "      <td>happy purchase amazing phone amazing camera co...</td>\n",
       "    </tr>\n",
       "    <tr>\n",
       "      <th>3</th>\n",
       "      <td>1.0</td>\n",
       "      <td>Amazon is not an apple authorised reseller. Pl...</td>\n",
       "      <td>Negative</td>\n",
       "      <td>amazon apple authorise reseller note get iphon...</td>\n",
       "    </tr>\n",
       "    <tr>\n",
       "      <th>4</th>\n",
       "      <td>5.0</td>\n",
       "      <td>Excellent Battery life and buttery smooth UI: ...</td>\n",
       "      <td>Positive</td>\n",
       "      <td>excellent battery life buttery smooth ui andro...</td>\n",
       "    </tr>\n",
       "  </tbody>\n",
       "</table>\n",
       "</div>"
      ],
      "text/plain": [
       "   rating                                        full_review  \\\n",
       "0     3.0  Which iPhone you should Purchase ? iPhone 8, X...   \n",
       "1     1.0  Don't buy iPhone xr from Amazon.: Very bad exp...   \n",
       "2     5.0  Happy with the purchase: Amazing phone with am...   \n",
       "3     1.0  Amazon is not an apple authorised reseller. Pl...   \n",
       "4     5.0  Excellent Battery life and buttery smooth UI: ...   \n",
       "\n",
       "  sentiment_on_basis_of_rating  \\\n",
       "0                      Neutral   \n",
       "1                     Negative   \n",
       "2                     Positive   \n",
       "3                     Negative   \n",
       "4                     Positive   \n",
       "\n",
       "                                        clean_review  \n",
       "0                iphone purchase iphone x xs xr note  \n",
       "1  buy iphone xr amazon bad experience iphone xr ...  \n",
       "2  happy purchase amazing phone amazing camera co...  \n",
       "3  amazon apple authorise reseller note get iphon...  \n",
       "4  excellent battery life buttery smooth ui andro...  "
      ]
     },
     "execution_count": 43,
     "metadata": {},
     "output_type": "execute_result"
    }
   ],
   "source": [
    "data.head()"
   ]
  },
  {
   "cell_type": "code",
   "execution_count": 44,
   "id": "2241b559",
   "metadata": {},
   "outputs": [],
   "source": [
    "data.drop(['full_review'], axis = 1, inplace = True)"
   ]
  },
  {
   "cell_type": "code",
   "execution_count": 45,
   "id": "5414a420",
   "metadata": {},
   "outputs": [
    {
     "data": {
      "text/html": [
       "<div>\n",
       "<style scoped>\n",
       "    .dataframe tbody tr th:only-of-type {\n",
       "        vertical-align: middle;\n",
       "    }\n",
       "\n",
       "    .dataframe tbody tr th {\n",
       "        vertical-align: top;\n",
       "    }\n",
       "\n",
       "    .dataframe thead th {\n",
       "        text-align: right;\n",
       "    }\n",
       "</style>\n",
       "<table border=\"1\" class=\"dataframe\">\n",
       "  <thead>\n",
       "    <tr style=\"text-align: right;\">\n",
       "      <th></th>\n",
       "      <th>rating</th>\n",
       "      <th>sentiment_on_basis_of_rating</th>\n",
       "      <th>clean_review</th>\n",
       "    </tr>\n",
       "  </thead>\n",
       "  <tbody>\n",
       "    <tr>\n",
       "      <th>900</th>\n",
       "      <td>5.0</td>\n",
       "      <td>Positive</td>\n",
       "      <td>love ❤ ️ awesome device month secure fast user...</td>\n",
       "    </tr>\n",
       "    <tr>\n",
       "      <th>901</th>\n",
       "      <td>5.0</td>\n",
       "      <td>Positive</td>\n",
       "      <td>iphone xr 45k gb good buy</td>\n",
       "    </tr>\n",
       "    <tr>\n",
       "      <th>902</th>\n",
       "      <td>5.0</td>\n",
       "      <td>Positive</td>\n",
       "      <td>apple well buy phone phone iphone xr good valu...</td>\n",
       "    </tr>\n",
       "    <tr>\n",
       "      <th>903</th>\n",
       "      <td>4.0</td>\n",
       "      <td>Positive</td>\n",
       "      <td>good phone happy phone battery long durability...</td>\n",
       "    </tr>\n",
       "    <tr>\n",
       "      <th>904</th>\n",
       "      <td>5.0</td>\n",
       "      <td>Positive</td>\n",
       "      <td>comparison xs affordable iphone speed quality ...</td>\n",
       "    </tr>\n",
       "    <tr>\n",
       "      <th>905</th>\n",
       "      <td>5.0</td>\n",
       "      <td>Positive</td>\n",
       "      <td>iphone iphone face d unlock awesome battery ba...</td>\n",
       "    </tr>\n",
       "    <tr>\n",
       "      <th>906</th>\n",
       "      <td>5.0</td>\n",
       "      <td>Positive</td>\n",
       "      <td>not need iphone good cam</td>\n",
       "    </tr>\n",
       "    <tr>\n",
       "      <th>907</th>\n",
       "      <td>5.0</td>\n",
       "      <td>Positive</td>\n",
       "      <td>expect obviously awesome product</td>\n",
       "    </tr>\n",
       "    <tr>\n",
       "      <th>908</th>\n",
       "      <td>5.0</td>\n",
       "      <td>Positive</td>\n",
       "      <td>awesome amazon phone xr deal gb n m happy amaz...</td>\n",
       "    </tr>\n",
       "    <tr>\n",
       "      <th>909</th>\n",
       "      <td>5.0</td>\n",
       "      <td>Positive</td>\n",
       "      <td>iphon xr extra r mean real value money get fes...</td>\n",
       "    </tr>\n",
       "  </tbody>\n",
       "</table>\n",
       "</div>"
      ],
      "text/plain": [
       "     rating sentiment_on_basis_of_rating  \\\n",
       "900     5.0                     Positive   \n",
       "901     5.0                     Positive   \n",
       "902     5.0                     Positive   \n",
       "903     4.0                     Positive   \n",
       "904     5.0                     Positive   \n",
       "905     5.0                     Positive   \n",
       "906     5.0                     Positive   \n",
       "907     5.0                     Positive   \n",
       "908     5.0                     Positive   \n",
       "909     5.0                     Positive   \n",
       "\n",
       "                                          clean_review  \n",
       "900  love ❤ ️ awesome device month secure fast user...  \n",
       "901                          iphone xr 45k gb good buy  \n",
       "902  apple well buy phone phone iphone xr good valu...  \n",
       "903  good phone happy phone battery long durability...  \n",
       "904  comparison xs affordable iphone speed quality ...  \n",
       "905  iphone iphone face d unlock awesome battery ba...  \n",
       "906                           not need iphone good cam  \n",
       "907                   expect obviously awesome product  \n",
       "908  awesome amazon phone xr deal gb n m happy amaz...  \n",
       "909  iphon xr extra r mean real value money get fes...  "
      ]
     },
     "execution_count": 45,
     "metadata": {},
     "output_type": "execute_result"
    }
   ],
   "source": [
    "data.iloc[900:910]"
   ]
  },
  {
   "cell_type": "code",
   "execution_count": 46,
   "id": "ced3abf5",
   "metadata": {},
   "outputs": [],
   "source": [
    "# sentiment analysis from clean_review\n",
    "\n",
    "sia = SentimentIntensityAnalyzer()"
   ]
  },
  {
   "cell_type": "code",
   "execution_count": 47,
   "id": "7604be60",
   "metadata": {},
   "outputs": [],
   "source": [
    "# Function to get sentiment score for a review\n",
    "def get_sentiment_score(review):\n",
    "    sentiment = sia.polarity_scores(review)\n",
    "    return sentiment['compound']\n",
    "\n",
    "# Apply sentiment scoring to each review\n",
    "data['sentiment_score'] = data['clean_review'].apply(get_sentiment_score)\n",
    "\n",
    "# Categorize sentiment based on score\n",
    "data['clean_review_sentiment'] = data['sentiment_score'].apply(lambda score: 'Positive' if score > 0 else ('Negative' if score < 0 else 'Neutral'))"
   ]
  },
  {
   "cell_type": "code",
   "execution_count": 48,
   "id": "be631ae7",
   "metadata": {},
   "outputs": [
    {
     "data": {
      "text/html": [
       "<div>\n",
       "<style scoped>\n",
       "    .dataframe tbody tr th:only-of-type {\n",
       "        vertical-align: middle;\n",
       "    }\n",
       "\n",
       "    .dataframe tbody tr th {\n",
       "        vertical-align: top;\n",
       "    }\n",
       "\n",
       "    .dataframe thead th {\n",
       "        text-align: right;\n",
       "    }\n",
       "</style>\n",
       "<table border=\"1\" class=\"dataframe\">\n",
       "  <thead>\n",
       "    <tr style=\"text-align: right;\">\n",
       "      <th></th>\n",
       "      <th>rating</th>\n",
       "      <th>sentiment_on_basis_of_rating</th>\n",
       "      <th>clean_review</th>\n",
       "      <th>sentiment_score</th>\n",
       "      <th>clean_review_sentiment</th>\n",
       "    </tr>\n",
       "  </thead>\n",
       "  <tbody>\n",
       "    <tr>\n",
       "      <th>0</th>\n",
       "      <td>3.0</td>\n",
       "      <td>Neutral</td>\n",
       "      <td>iphone purchase iphone x xs xr note</td>\n",
       "      <td>0.0000</td>\n",
       "      <td>Neutral</td>\n",
       "    </tr>\n",
       "    <tr>\n",
       "      <th>1</th>\n",
       "      <td>1.0</td>\n",
       "      <td>Negative</td>\n",
       "      <td>buy iphone xr amazon bad experience iphone xr ...</td>\n",
       "      <td>-0.8316</td>\n",
       "      <td>Negative</td>\n",
       "    </tr>\n",
       "    <tr>\n",
       "      <th>2</th>\n",
       "      <td>5.0</td>\n",
       "      <td>Positive</td>\n",
       "      <td>happy purchase amazing phone amazing camera co...</td>\n",
       "      <td>0.9524</td>\n",
       "      <td>Positive</td>\n",
       "    </tr>\n",
       "    <tr>\n",
       "      <th>3</th>\n",
       "      <td>1.0</td>\n",
       "      <td>Negative</td>\n",
       "      <td>amazon apple authorise reseller note get iphon...</td>\n",
       "      <td>0.8591</td>\n",
       "      <td>Positive</td>\n",
       "    </tr>\n",
       "    <tr>\n",
       "      <th>4</th>\n",
       "      <td>5.0</td>\n",
       "      <td>Positive</td>\n",
       "      <td>excellent battery life buttery smooth ui andro...</td>\n",
       "      <td>0.9648</td>\n",
       "      <td>Positive</td>\n",
       "    </tr>\n",
       "  </tbody>\n",
       "</table>\n",
       "</div>"
      ],
      "text/plain": [
       "   rating sentiment_on_basis_of_rating  \\\n",
       "0     3.0                      Neutral   \n",
       "1     1.0                     Negative   \n",
       "2     5.0                     Positive   \n",
       "3     1.0                     Negative   \n",
       "4     5.0                     Positive   \n",
       "\n",
       "                                        clean_review  sentiment_score  \\\n",
       "0                iphone purchase iphone x xs xr note           0.0000   \n",
       "1  buy iphone xr amazon bad experience iphone xr ...          -0.8316   \n",
       "2  happy purchase amazing phone amazing camera co...           0.9524   \n",
       "3  amazon apple authorise reseller note get iphon...           0.8591   \n",
       "4  excellent battery life buttery smooth ui andro...           0.9648   \n",
       "\n",
       "  clean_review_sentiment  \n",
       "0                Neutral  \n",
       "1               Negative  \n",
       "2               Positive  \n",
       "3               Positive  \n",
       "4               Positive  "
      ]
     },
     "execution_count": 48,
     "metadata": {},
     "output_type": "execute_result"
    }
   ],
   "source": [
    "data.head()"
   ]
  },
  {
   "cell_type": "code",
   "execution_count": 49,
   "id": "aedda7ed",
   "metadata": {},
   "outputs": [],
   "source": [
    "data.drop(['sentiment_on_basis_of_rating'], axis=1, inplace = True)"
   ]
  },
  {
   "cell_type": "code",
   "execution_count": 50,
   "id": "fb07970e",
   "metadata": {},
   "outputs": [
    {
     "data": {
      "image/png": "[encoded data removed]",
      "text/plain": [
       "<Figure size 1000x600 with 1 Axes>"
      ]
     },
     "metadata": {},
     "output_type": "display_data"
    },
    {
     "data": {
      "image/png": "[encoded data removed]",
      "text/plain": [
       "<Figure size 600x600 with 1 Axes>"
      ]
     },
     "metadata": {},
     "output_type": "display_data"
    }
   ],
   "source": [
    "# Distribution of sentiment scores\n",
    "plt.figure(figsize=(10, 6))\n",
    "plt.hist(data['sentiment_score'], bins=25, edgecolor='black')\n",
    "plt.xlabel('Sentiment Score')\n",
    "plt.ylabel('Frequency')\n",
    "plt.title('Distribution of Sentiment Scores')\n",
    "plt.show()\n",
    "\n",
    "# Distribution of sentiment labels\n",
    "plt.figure(figsize=(6, 6))\n",
    "data['clean_review_sentiment'].value_counts().plot(kind='bar')\n",
    "plt.xlabel('Sentiment Label')\n",
    "plt.ylabel('Count')\n",
    "plt.title('Distribution of Sentiment Labels')\n",
    "plt.show()"
   ]
  },
  {
   "cell_type": "code",
   "execution_count": 51,
   "id": "2447cb6a",
   "metadata": {},
   "outputs": [
    {
     "name": "stdout",
     "output_type": "stream",
     "text": [
      "clean_review_sentiment\n",
      "Positive    4316\n",
      "Negative     372\n",
      "Neutral      319\n",
      "Name: count, dtype: int64\n",
      "                                           clean_review clean_review_sentiment\n",
      "3978                                 phone good product               Positive\n",
      "2086                great phone get phone delivery date               Positive\n",
      "4491                             great phone nice photo               Positive\n",
      "3631                      apple think twice value money               Positive\n",
      "2996                                          good good               Positive\n",
      "3956                  good term performance camera poor               Negative\n",
      "584   bad experience product receive good condition ...               Negative\n",
      "2317  good price.camera need improve supreme iphone ...               Positive\n",
      "3928                                        great great               Positive\n",
      "2077  great price iphone great price super delivery ...               Positive\n",
      "Review: phone good product\n",
      "Sentiment Score: 0.4404\n",
      "Sentiment Label: Positive\n",
      "---\n",
      "Review: great phone get phone delivery date\n",
      "Sentiment Score: 0.6249\n",
      "Sentiment Label: Positive\n",
      "---\n",
      "Review: great phone nice photo\n",
      "Sentiment Score: 0.7845\n",
      "Sentiment Label: Positive\n",
      "---\n",
      "Review: apple think twice value money\n",
      "Sentiment Score: 0.34\n",
      "Sentiment Label: Positive\n",
      "---\n",
      "Review: good good\n",
      "Sentiment Score: 0.7003\n",
      "Sentiment Label: Positive\n",
      "---\n",
      "Review: good term performance camera poor\n",
      "Sentiment Score: -0.0516\n",
      "Sentiment Label: Negative\n",
      "---\n",
      "Review: bad experience product receive good condition face recognition feature camera work well.the phone submit phone service center week repair\n",
      "Sentiment Score: -0.1531\n",
      "Sentiment Label: Negative\n",
      "---\n",
      "Review: good price.camera need improve supreme iphone look good price\n",
      "Sentiment Score: 0.9062\n",
      "Sentiment Label: Positive\n",
      "---\n",
      "Review: great great\n",
      "Sentiment Score: 0.8481\n",
      "Sentiment Label: Positive\n",
      "---\n",
      "Review: great price iphone great price super delivery iphone happy\n",
      "Sentiment Score: 0.9501\n",
      "Sentiment Label: Positive\n",
      "---\n"
     ]
    }
   ],
   "source": [
    "# Check the distribution of sentiment labels\n",
    "sentiment_counts = data['clean_review_sentiment'].value_counts()\n",
    "print(sentiment_counts)\n",
    "\n",
    "# Verify a random sample of sentiment labels and reviews\n",
    "sample = data.sample(n=10, random_state=42)\n",
    "print(sample[['clean_review', 'clean_review_sentiment']])\n",
    "\n",
    "# Verify the sentiment scoring for a random sample of reviews\n",
    "for index, row in sample.iterrows():\n",
    "    review = row['clean_review']\n",
    "    sentiment_score = row['sentiment_score']\n",
    "    sentiment_label = row['clean_review_sentiment']\n",
    "    print(f\"Review: {review}\")\n",
    "    print(f\"Sentiment Score: {sentiment_score}\")\n",
    "    print(f\"Sentiment Label: {sentiment_label}\")\n",
    "    print(\"---\")"
   ]
  },
  {
   "cell_type": "code",
   "execution_count": 52,
   "id": "15d3bb8f",
   "metadata": {},
   "outputs": [
    {
     "name": "stdout",
     "output_type": "stream",
     "text": [
      "Average Sentiment Score: 0.5739030357499502\n",
      "Sentiment Label Percentage:\n",
      "clean_review_sentiment\n",
      "Positive    86.199321\n",
      "Negative     7.429599\n",
      "Neutral      6.371080\n",
      "Name: proportion, dtype: float64\n"
     ]
    }
   ],
   "source": [
    "# Calculate average sentiment score\n",
    "average_sentiment_score = data['sentiment_score'].mean()\n",
    "print('Average Sentiment Score:', average_sentiment_score)\n",
    "\n",
    "# Calculate percentage of sentiment labels\n",
    "sentiment_counts = data['clean_review_sentiment'].value_counts(normalize=True) * 100\n",
    "print('Sentiment Label Percentage:')\n",
    "print(sentiment_counts)"
   ]
  },
  {
   "cell_type": "code",
   "execution_count": 53,
   "id": "d0cc7930",
   "metadata": {},
   "outputs": [
    {
     "name": "stdout",
     "output_type": "stream",
     "text": [
      "Average Sentiment Score by Rating:\n",
      "rating\n",
      "1.0   -0.220858\n",
      "2.0   -0.061048\n",
      "3.0    0.177116\n",
      "4.0    0.568772\n",
      "5.0    0.673946\n",
      "Name: sentiment_score, dtype: float64\n",
      "Sentiment Label Proportions by Rating:\n",
      "rating  clean_review_sentiment\n",
      "1.0     Negative                  60.815047\n",
      "        Positive                  24.764890\n",
      "        Neutral                   14.420063\n",
      "2.0     Negative                  42.528736\n",
      "        Positive                  39.080460\n",
      "        Neutral                   18.390805\n",
      "3.0     Positive                  52.287582\n",
      "        Negative                  26.143791\n",
      "        Neutral                   21.568627\n",
      "4.0     Positive                  87.186630\n",
      "        Neutral                    7.103064\n",
      "        Negative                   5.710306\n",
      "5.0     Positive                  93.753351\n",
      "        Neutral                    4.638070\n",
      "        Negative                   1.608579\n",
      "Name: proportion, dtype: float64\n"
     ]
    },
    {
     "data": {
      "image/png": "[encoded data removed]",
      "text/plain": [
       "<Figure size 1000x600 with 1 Axes>"
      ]
     },
     "metadata": {},
     "output_type": "display_data"
    },
    {
     "data": {
      "image/png": "[encoded data removed]",
      "text/plain": [
       "<Figure size 1000x600 with 1 Axes>"
      ]
     },
     "metadata": {},
     "output_type": "display_data"
    }
   ],
   "source": [
    "# Group by rating and calculate average sentiment score\n",
    "avg_sentiment_by_rating = data.groupby('rating')['sentiment_score'].mean()\n",
    "print('Average Sentiment Score by Rating:')\n",
    "print(avg_sentiment_by_rating)\n",
    "\n",
    "# Group by rating and calculate sentiment label proportions\n",
    "sentiment_counts_by_rating = data.groupby('rating')['clean_review_sentiment'].value_counts(normalize=True) * 100\n",
    "print('Sentiment Label Proportions by Rating:')\n",
    "print(sentiment_counts_by_rating)\n",
    "\n",
    "# Plot average sentiment score by rating\n",
    "plt.figure(figsize=(10, 6))\n",
    "plt.plot(avg_sentiment_by_rating.index, avg_sentiment_by_rating.values, marker='o')\n",
    "plt.xlabel('Rating')\n",
    "plt.ylabel('Average Sentiment Score')\n",
    "plt.title('Average Sentiment Score by Rating')\n",
    "plt.show()\n",
    "\n",
    "# Plot sentiment label proportions by rating\n",
    "plt.figure(figsize=(10, 6))\n",
    "labels = data['clean_review_sentiment'].unique()\n",
    "for label in labels:\n",
    "    plt.plot(sentiment_counts_by_rating.xs(label, level=1).index, sentiment_counts_by_rating.xs(label, level=1).values, marker='o', label=label)\n",
    "plt.xlabel('Rating')\n",
    "plt.ylabel('Sentiment Label Proportion (%)')\n",
    "plt.title('Sentiment Label Proportions by Rating')\n",
    "plt.legend()\n",
    "plt.show()\n"
   ]
  },
  {
   "cell_type": "code",
   "execution_count": 54,
   "id": "e3fb1781",
   "metadata": {},
   "outputs": [
    {
     "name": "stdout",
     "output_type": "stream",
     "text": [
      "Correlation between Sentiment Score and Rating: 0.6083620175213157\n"
     ]
    }
   ],
   "source": [
    "# Calculate the correlation coefficient\n",
    "correlation = np.corrcoef(data['sentiment_score'], data['rating'])[0, 1]\n",
    "print('Correlation between Sentiment Score and Rating:', correlation)\n"
   ]
  }
 ],
 "metadata": {
  "kernelspec": {
   "display_name": "Python 3 (ipykernel)",
   "language": "python",
   "name": "python3"
  },
  "language_info": {
   "codemirror_mode": {
    "name": "ipython",
    "version": 3
   },
   "file_extension": ".py",
   "mimetype": "text/x-python",
   "name": "python",
   "nbconvert_exporter": "python",
   "pygments_lexer": "ipython3",
   "version": "3.10.6"
  }
 },
 "nbformat": 4,
 "nbformat_minor": 5
}
